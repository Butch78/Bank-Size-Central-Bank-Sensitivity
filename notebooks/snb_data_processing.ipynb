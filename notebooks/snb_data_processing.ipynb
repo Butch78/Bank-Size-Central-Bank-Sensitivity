{
 "cells": [
  {
   "cell_type": "markdown",
   "metadata": {},
   "source": [
    "Informative text"
   ]
  },
  {
   "cell_type": "code",
   "execution_count": 27,
   "metadata": {},
   "outputs": [
    {
     "name": "stdout",
     "output_type": "stream",
     "text": [
      "First few rows of table 'targetranges':\n",
      "   id       date  lower_bound  upper_bound\n",
      "0   1 2000-01-03         1.25         2.25\n",
      "1   2 2000-01-04         1.25         2.25\n",
      "2   3 2000-01-05         1.25         2.25\n",
      "3   4 2000-01-06         1.25         2.25\n",
      "4   5 2000-01-07         1.25         2.25 \n",
      "\n",
      "First few rows of table 'depositrates':\n",
      "   id       date  value\n",
      "0   1 1999-12-01   1.19\n",
      "1   2 2000-01-01   1.19\n",
      "2   3 2000-02-01   1.27\n",
      "3   4 2000-03-01   1.35\n",
      "4   5 2000-04-01   1.35 \n",
      "\n",
      "First few rows of table 'targetrates':\n",
      "   id       date  value\n",
      "0   1 2019-06-01  -0.75\n",
      "1   2 2019-07-01  -0.75\n",
      "2   3 2019-08-01  -0.75\n",
      "3   4 2019-09-01  -0.75\n",
      "4   5 2019-10-01  -0.75 \n",
      "\n"
     ]
    },
    {
     "name": "stderr",
     "output_type": "stream",
     "text": [
      "/tmp/ipykernel_5084/2949156054.py:17: UserWarning: pandas only supports SQLAlchemy connectable (engine/connection) or database string URI or sqlite3 DBAPI2 connection. Other DBAPI2 objects are not tested. Please consider using SQLAlchemy.\n",
      "  df = pd.read_sql_query(query, conn)\n",
      "/tmp/ipykernel_5084/2949156054.py:17: UserWarning: pandas only supports SQLAlchemy connectable (engine/connection) or database string URI or sqlite3 DBAPI2 connection. Other DBAPI2 objects are not tested. Please consider using SQLAlchemy.\n",
      "  df = pd.read_sql_query(query, conn)\n",
      "/tmp/ipykernel_5084/2949156054.py:17: UserWarning: pandas only supports SQLAlchemy connectable (engine/connection) or database string URI or sqlite3 DBAPI2 connection. Other DBAPI2 objects are not tested. Please consider using SQLAlchemy.\n",
      "  df = pd.read_sql_query(query, conn)\n"
     ]
    }
   ],
   "source": [
    "import psycopg2\n",
    "import os\n",
    "import pandas as pd\n",
    "\n",
    "# Establish database connection\n",
    "conn = psycopg2.connect(\n",
    "    dbname=os.environ.get('DBNAME'), \n",
    "    user=os.environ.get('DBUSER'), \n",
    "    password=os.environ.get('DBPASS'), \n",
    "    host=os.environ.get('DBHOST'), \n",
    "    port=os.environ.get('DBPORT')\n",
    ")\n",
    "\n",
    "# Function to query a table and display the first few rows\n",
    "def display_table(table_name):\n",
    "    query = f\"SELECT * FROM {table_name}\"\n",
    "    df = pd.read_sql_query(query, conn)\n",
    "    print(f\"First few rows of table '{table_name}':\")\n",
    "    print(df.head(), \"\\n\")  # Display the first few rows\n",
    "\n",
    "# Display the first few rows of each table\n",
    "display_table(\"targetranges\")\n",
    "display_table(\"depositrates\")\n",
    "display_table(\"targetrates\")\n",
    "\n",
    "# Close the database connection\n",
    "conn.close()\n"
   ]
  },
  {
   "cell_type": "markdown",
   "metadata": {},
   "source": [
    "Create data frame with midpoint of the range for 2000-2019"
   ]
  },
  {
   "cell_type": "code",
   "execution_count": 28,
   "metadata": {},
   "outputs": [
    {
     "name": "stdout",
     "output_type": "stream",
     "text": [
      "           date     value\n",
      "0    2000-01-01  1.750000\n",
      "1    2000-02-01  1.750000\n",
      "2    2000-03-01  2.202381\n",
      "3    2000-04-01  2.478261\n",
      "4    2000-05-01  3.000000\n",
      "..          ...       ...\n",
      "230  2019-03-01 -0.750000\n",
      "231  2019-04-01 -0.750000\n",
      "232  2019-05-01 -0.750000\n",
      "233  2019-06-01 -0.750000\n",
      "234  2019-07-01 -0.750000\n",
      "\n",
      "[235 rows x 2 columns]\n"
     ]
    }
   ],
   "source": [
    "import os\n",
    "import pandas as pd\n",
    "from sqlalchemy import create_engine\n",
    "\n",
    "# Set up the database connection using SQLAlchemy\n",
    "db_string = f\"postgresql://{os.environ.get('DBUSER')}:\" \\\n",
    "            f\"{os.environ.get('DBPASS')}@{os.environ.get('DBHOST')}:\" \\\n",
    "            f\"{os.environ.get('DBPORT')}/{os.environ.get('DBNAME')}\"\n",
    "engine = create_engine(db_string)\n",
    "\n",
    "# SQL query to calculate the average midpoint for each month, shifted to the first of the next month,\n",
    "# plus the special case for January 1st, 2000\n",
    "query = '''\n",
    "WITH MonthlyAverages AS (\n",
    "  SELECT\n",
    "    DATE_TRUNC('month', date) + INTERVAL '1 month' - INTERVAL '1 day' AS date,\n",
    "    AVG((lower_bound + upper_bound) / 2.0) AS value\n",
    "  FROM\n",
    "    targetranges\n",
    "  GROUP BY\n",
    "    DATE_TRUNC('month', date)\n",
    ")\n",
    "SELECT\n",
    "  (date + INTERVAL '1 day')::date AS date,\n",
    "  value\n",
    "FROM\n",
    "  MonthlyAverages\n",
    "\n",
    "UNION ALL\n",
    "\n",
    "SELECT\n",
    "  '2000-01-01'::date AS report_date,\n",
    "  (SELECT (lower_bound + upper_bound) / 2.0\n",
    "   FROM targetranges\n",
    "   ORDER BY date ASC\n",
    "   LIMIT 1) AS value\n",
    "ORDER BY\n",
    "  date;\n",
    "'''\n",
    "\n",
    "# Read the data into a Pandas DataFrame\n",
    "SNB_old = pd.read_sql_query(query, engine)\n",
    "\n",
    "# Close the connection\n",
    "engine.dispose()\n",
    "\n",
    "# Show the resulting DataFrame\n",
    "print(SNB_old)\n"
   ]
  },
  {
   "cell_type": "markdown",
   "metadata": {},
   "source": [
    "Create dataframe SNB_new which pulls the target from 2019-2023, and shifts forward by one month to reflect the average from the previous month. Delete the first entry (June, reported one July 1st)"
   ]
  },
  {
   "cell_type": "code",
   "execution_count": 32,
   "metadata": {},
   "outputs": [
    {
     "name": "stdout",
     "output_type": "stream",
     "text": [
      "           date  value\n",
      "0    2019-08-01  -0.75\n",
      "1    2019-09-01  -0.75\n",
      "2    2019-10-01  -0.75\n",
      "3    2019-11-01  -0.75\n",
      "4    2019-12-01  -0.75\n",
      "...         ...    ...\n",
      "5119 2019-07-06  -0.75\n",
      "5120 2019-07-07  -0.75\n",
      "5121 2019-07-10  -0.75\n",
      "5122 2019-07-11  -0.75\n",
      "5123 2019-07-12  -0.75\n",
      "\n",
      "[5124 rows x 2 columns]\n"
     ]
    }
   ],
   "source": [
    "import os\n",
    "import pandas as pd\n",
    "from sqlalchemy import create_engine\n",
    "\n",
    "# Set up the database connection using SQLAlchemy\n",
    "db_string = f\"postgresql://{os.environ.get('DBUSER')}:\" \\\n",
    "            f\"{os.environ.get('DBPASS')}@{os.environ.get('DBHOST')}:\" \\\n",
    "            f\"{os.environ.get('DBPORT')}/{os.environ.get('DBNAME')}\"\n",
    "engine = create_engine(db_string)\n",
    "\n",
    "# SQL query to select date and value from targetrates\n",
    "query = \"SELECT date, value FROM targetrates;\"\n",
    "\n",
    "# Read the data into a Pandas DataFrame called SNB_new\n",
    "SNB_new = pd.read_sql_query(query, engine)\n",
    "\n",
    "# Close the connection\n",
    "engine.dispose()\n",
    "\n",
    "# Convert the 'date' column to datetime if it's not already\n",
    "SNB_new['date'] = pd.to_datetime(SNB_new['date'])\n",
    "\n",
    "# Shift the 'date' forward by one month\n",
    "SNB_new['date'] = SNB_new['date'] + pd.DateOffset(months=1)\n",
    "\n",
    "# Drop the first row\n",
    "SNB_new = SNB_new.iloc[1:].reset_index(drop=True)\n",
    "\n",
    "# SNB_new now contains the date shifted by one month and without the first row\n",
    "print(SNB_new)  # To verify the output\n"
   ]
  },
  {
   "cell_type": "code",
   "execution_count": null,
   "metadata": {},
   "outputs": [],
   "source": []
  }
 ],
 "metadata": {
  "kernelspec": {
   "display_name": "Python 3",
   "language": "python",
   "name": "python3"
  },
  "language_info": {
   "codemirror_mode": {
    "name": "ipython",
    "version": 3
   },
   "file_extension": ".py",
   "mimetype": "text/x-python",
   "name": "python",
   "nbconvert_exporter": "python",
   "pygments_lexer": "ipython3",
   "version": "3.11.2"
  }
 },
 "nbformat": 4,
 "nbformat_minor": 2
}
