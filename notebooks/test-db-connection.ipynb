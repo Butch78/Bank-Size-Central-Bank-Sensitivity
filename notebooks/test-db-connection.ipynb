{
 "cells": [
  {
   "cell_type": "code",
   "execution_count": 12,
   "metadata": {},
   "outputs": [
    {
     "name": "stdout",
     "output_type": "stream",
     "text": [
      "postgres\n",
      "admin\n",
      "LocalPasswordOnly\n",
      "localhost\n",
      "5432\n",
      "('PostgreSQL 16.0 (Debian 16.0-1.pgdg120+1) on x86_64-pc-linux-gnu, compiled by gcc (Debian 12.2.0-14) 12.2.0, 64-bit',)\n",
      "[('restaurants',), ('targetranges',), ('depositrates',), ('targetrates',)]\n"
     ]
    },
    {
     "name": "stderr",
     "output_type": "stream",
     "text": [
      "/tmp/ipykernel_37282/3175341415.py:31: UserWarning: pandas only supports SQLAlchemy connectable (engine/connection) or database string URI or sqlite3 DBAPI2 connection. Other DBAPI2 objects are not tested. Please consider using SQLAlchemy.\n",
      "  df = pd.read_sql_query(\"\"\"SELECT * FROM public.\"targetranges\" \"\"\", conn)\n"
     ]
    },
    {
     "data": {
      "text/html": [
       "<div>\n",
       "<style scoped>\n",
       "    .dataframe tbody tr th:only-of-type {\n",
       "        vertical-align: middle;\n",
       "    }\n",
       "\n",
       "    .dataframe tbody tr th {\n",
       "        vertical-align: top;\n",
       "    }\n",
       "\n",
       "    .dataframe thead th {\n",
       "        text-align: right;\n",
       "    }\n",
       "</style>\n",
       "<table border=\"1\" class=\"dataframe\">\n",
       "  <thead>\n",
       "    <tr style=\"text-align: right;\">\n",
       "      <th></th>\n",
       "      <th>id</th>\n",
       "      <th>date</th>\n",
       "      <th>lower_bound</th>\n",
       "      <th>upper_bound</th>\n",
       "    </tr>\n",
       "  </thead>\n",
       "  <tbody>\n",
       "    <tr>\n",
       "      <th>0</th>\n",
       "      <td>1</td>\n",
       "      <td>2000-01-03</td>\n",
       "      <td>1.25</td>\n",
       "      <td>2.25</td>\n",
       "    </tr>\n",
       "    <tr>\n",
       "      <th>1</th>\n",
       "      <td>2</td>\n",
       "      <td>2000-01-04</td>\n",
       "      <td>1.25</td>\n",
       "      <td>2.25</td>\n",
       "    </tr>\n",
       "    <tr>\n",
       "      <th>2</th>\n",
       "      <td>3</td>\n",
       "      <td>2000-01-05</td>\n",
       "      <td>1.25</td>\n",
       "      <td>2.25</td>\n",
       "    </tr>\n",
       "    <tr>\n",
       "      <th>3</th>\n",
       "      <td>4</td>\n",
       "      <td>2000-01-06</td>\n",
       "      <td>1.25</td>\n",
       "      <td>2.25</td>\n",
       "    </tr>\n",
       "    <tr>\n",
       "      <th>4</th>\n",
       "      <td>5</td>\n",
       "      <td>2000-01-07</td>\n",
       "      <td>1.25</td>\n",
       "      <td>2.25</td>\n",
       "    </tr>\n",
       "  </tbody>\n",
       "</table>\n",
       "</div>"
      ],
      "text/plain": [
       "   id       date  lower_bound  upper_bound\n",
       "0   1 2000-01-03         1.25         2.25\n",
       "1   2 2000-01-04         1.25         2.25\n",
       "2   3 2000-01-05         1.25         2.25\n",
       "3   4 2000-01-06         1.25         2.25\n",
       "4   5 2000-01-07         1.25         2.25"
      ]
     },
     "execution_count": 12,
     "metadata": {},
     "output_type": "execute_result"
    }
   ],
   "source": [
    "import psycopg2\n",
    "import os\n",
    "# Connect to the database\n",
    "\n",
    "print(os.environ.get('DBNAME'))\n",
    "print(os.environ.get('DBUSER'))\n",
    "print(os.environ.get('DBPASS'))\n",
    "print(os.environ.get('DBHOST'))\n",
    "print(os.environ.get('DBPORT'))\n",
    "\n",
    "# Use environment variables to connect to the database\n",
    "\n",
    "# TODO create a read-only user for the database\n",
    "conn = psycopg2.connect(dbname=os.environ.get('DBNAME'), user=os.environ.get('DBUSER'), password=os.environ.get('DBPASS'), host=os.environ.get('DBHOST'), port=os.environ.get('DBPORT'))\n",
    "\n",
    "# Create a cursor to perform database operations\n",
    "cur = conn.cursor()\n",
    "\n",
    "# Print PostgreSQL version\n",
    "cur.execute(\"SELECT version();\")\n",
    "print(cur.fetchone())\n",
    "\n",
    "# Print All the Table Names\n",
    "cur.execute(\"\"\"SELECT table_name FROM information_schema.tables\n",
    "       WHERE table_schema = 'public'\"\"\")\n",
    "print(cur.fetchall())\n",
    "\n",
    "import pandas as pd\n",
    "\n",
    "# Read the data from the DB\n",
    "df = pd.read_sql_query(\"\"\"SELECT * FROM public.\"targetranges\" \"\"\", conn)\n",
    "df.head()\n",
    "\n",
    "\n",
    "\n"
   ]
  },
  {
   "cell_type": "code",
   "execution_count": 16,
   "metadata": {},
   "outputs": [
    {
     "data": {
      "text/plain": [
       "<Axes: xlabel='date'>"
      ]
     },
     "execution_count": 16,
     "metadata": {},
     "output_type": "execute_result"
    },
    {
     "data": {
      "image/png": "[encoded data removed]",
      "text/plain": [
       "<Figure size 640x480 with 1 Axes>"
      ]
     },
     "metadata": {},
     "output_type": "display_data"
    }
   ],
   "source": [
    "df.head()\n",
    "# Plot the Data using Pandas\n",
    "df.plot(x='date', y='upper_bound')"
   ]
  }
 ],
 "metadata": {
  "kernelspec": {
   "display_name": "Python 3",
   "language": "python",
   "name": "python3"
  },
  "language_info": {
   "codemirror_mode": {
    "name": "ipython",
    "version": 3
   },
   "file_extension": ".py",
   "mimetype": "text/x-python",
   "name": "python",
   "nbconvert_exporter": "python",
   "pygments_lexer": "ipython3",
   "version": "3.11.6"
  }
 },
 "nbformat": 4,
 "nbformat_minor": 2
}
